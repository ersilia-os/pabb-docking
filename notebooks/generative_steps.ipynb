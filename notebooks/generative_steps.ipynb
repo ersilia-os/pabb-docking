{
 "cells": [
  {
   "attachments": {},
   "cell_type": "markdown",
   "metadata": {},
   "source": [
    "# Generative Steps for novel PabB Inhibitors\n",
    "\n",
    "This notebook contains the steps to use the scorer.py funciton plus chemsampler to sample and generate compounds optimised for PabB binding."
   ]
  },
  {
   "cell_type": "code",
   "execution_count": 2,
   "metadata": {},
   "outputs": [],
   "source": [
    "import os\n",
    "import pandas as pd\n",
    "import numpy as np\n",
    "from rdkit import Chem\n",
    "from rdkit.Chem import AllChem\n",
    "from rdkit.Chem.rdmolfiles import MolToPDBFile\n",
    "from rdkit.Chem import PandasTools\n",
    "from rdkit.Chem import Descriptors\n",
    "from rdkit import Chem\n",
    "from rdkit.Chem.Draw import IPythonConsole\n",
    "from rdkit.Chem import Draw\n",
    "from rdkit.ML.Descriptors import MoleculeDescriptors\n",
    "from standardiser import standardise\n",
    "import random\n",
    "import string\n",
    "\n",
    "\n",
    "DATAPATH = \"../data\"\n",
    "RESULTSPATH = \"../results\"\n",
    "SOURCEPATH = \"../src\""
   ]
  },
  {
   "attachments": {},
   "cell_type": "markdown",
   "metadata": {},
   "source": [
    "## Initial dataset preparation\n",
    "\n",
    "The reference_library.csv from https://github.com/ersilia-os/groverfeat/blob/main/data/reference_library.csv was downloaded and addded to the repo. This was filtered based loosely on Lipinski's rule of 5, but with caveats for lead compounds. More info can be found on the wiki page here https://en.wikipedia.org/wiki/Lipinski%27s_rule_of_five#:~:text=Lipinski's%20rule%20states%20that%2C%20in,all%20nitrogen%20or%20oxygen%20atoms. "
   ]
  },
  {
   "cell_type": "code",
   "execution_count": 23,
   "metadata": {},
   "outputs": [
    {
     "name": "stderr",
     "output_type": "stream",
     "text": [
      "[13:20:10] WARNING: not removing hydrogen atom without neighbors\n",
      "[13:20:57] WARNING: not removing hydrogen atom without neighbors\n",
      "[13:21:29] WARNING: not removing hydrogen atom without neighbors\n"
     ]
    }
   ],
   "source": [
    "smiles_csv = os.path.join(DATAPATH, \"smiles\", \"reference_library.csv\")\n",
    "filtered_smiles = os.path.join(DATAPATH, \"smiles\", \"filtered_std_smiles.csv\")\n",
    "col_Names=[\"SMILES\"]\n",
    "df = pd.read_csv(smiles_csv, names=col_Names)\n",
    "\n",
    "selected = []\n",
    "\n",
    "for s in df[\"SMILES\"]:\n",
    "    mol = Chem.MolFromSmiles(s)\n",
    "    mw = Chem.Descriptors.MolWt(mol)\n",
    "    logp = Chem.Descriptors.MolLogP(mol)\n",
    "    hacceptors = Chem.Descriptors.NumHAcceptors(mol)\n",
    "    hdonors = Chem.Descriptors.NumHDonors(mol)\n",
    "    numrotatablebonds = Chem.Descriptors.NumRotatableBonds(mol)\n",
    "    if mw >=250 and mw <=450 and logp >=1 and logp <=3 and hacceptors <=5 and hdonors <=4 and numrotatablebonds <=5: \n",
    "        selected += [s]\n",
    "        continue\n",
    "\n",
    "#this almost follows Lipinski's rule of 5, but for lead compounds (see wiki)"
   ]
  },
  {
   "cell_type": "code",
   "execution_count": 14,
   "metadata": {},
   "outputs": [
    {
     "data": {
      "text/plain": [
       "1999381"
      ]
     },
     "execution_count": 14,
     "metadata": {},
     "output_type": "execute_result"
    }
   ],
   "source": [
    "len(df[\"SMILES\"]) #how many original smiles?"
   ]
  },
  {
   "cell_type": "code",
   "execution_count": 24,
   "metadata": {},
   "outputs": [
    {
     "data": {
      "text/plain": [
       "201515"
      ]
     },
     "execution_count": 24,
     "metadata": {},
     "output_type": "execute_result"
    }
   ],
   "source": [
    "len(selected) #how many in our list?\n"
   ]
  },
  {
   "cell_type": "code",
   "execution_count": 45,
   "metadata": {},
   "outputs": [],
   "source": [
    "id_list = (range(0, 201515))\n",
    "len(id_list) # must create a list of 'IDs' for the ID column - this is required for the scorer.py\n"
   ]
  },
  {
   "cell_type": "code",
   "execution_count": 51,
   "metadata": {},
   "outputs": [],
   "source": [
    "filtered_selected = os.path.join(DATAPATH, \"smiles\", \"200k_for_chemsampler.csv\")\n",
    "\n",
    "dict = {'ID': id_list, 'SMILES': selected}  \n",
    "       \n",
    "df = pd.DataFrame(dict) \n",
    "\n",
    "df.to_csv(filtered_selected, index=False) \n",
    "\n",
    "#saves a .csv file with a column for ID and a column for SMILES which will be used to run the first round of docking into PabB."
   ]
  },
  {
   "attachments": {},
   "cell_type": "markdown",
   "metadata": {},
   "source": [
    "The aim of producing this dataset of ~200k lead-like compounds is to dock a large number of potential leads into PabB and obtain docking scores. Compounds that dock with a high affinity when compared to the known binders can be used alongside the known binders as a list of compounds to seed chemsampler. We are looking for 50-100 compounds to use as a seed. Chemsampler will then sample and generate ~1 million compounds. These can be filtered, remaining compounds re-docked and further generation can occur."
   ]
  },
  {
   "cell_type": "markdown",
   "metadata": {},
   "source": []
  }
 ],
 "metadata": {
  "kernelspec": {
   "display_name": "docking-env",
   "language": "python",
   "name": "python3"
  },
  "language_info": {
   "codemirror_mode": {
    "name": "ipython",
    "version": 3
   },
   "file_extension": ".py",
   "mimetype": "text/x-python",
   "name": "python",
   "nbconvert_exporter": "python",
   "pygments_lexer": "ipython3",
   "version": "3.11.0"
  },
  "orig_nbformat": 4
 },
 "nbformat": 4,
 "nbformat_minor": 2
}
